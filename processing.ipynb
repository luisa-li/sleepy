{
 "cells": [
  {
   "cell_type": "markdown",
   "metadata": {},
   "source": [
    "This notebook preprocesses the data by creating a CSV file with all the file names and their ground truth categories (0 for open, and 1 for closed). "
   ]
  },
  {
   "cell_type": "code",
   "execution_count": 18,
   "metadata": {},
   "outputs": [],
   "source": [
    "import csv\n",
    "import pandas as pd\n",
    "import os"
   ]
  },
  {
   "cell_type": "code",
   "execution_count": null,
   "metadata": {},
   "outputs": [],
   "source": [
    "with open('path.csv', 'a') as f:\n",
    "    writer = csv.writer(f)\n",
    "    writer.writerow(['path', 'label'])"
   ]
  },
  {
   "cell_type": "code",
   "execution_count": 19,
   "metadata": {},
   "outputs": [],
   "source": [
    "path_closed = \"data/closed\"\n",
    "dir_list = os.listdir(path_closed)\n",
    " \n",
    "with open('path.csv', 'a') as f:\n",
    "    \n",
    "    writer = csv.writer(f)\n",
    "\n",
    "    for dir in dir_list:\n",
    "        writer.writerow([\"closed/\" + dir, 1])"
   ]
  },
  {
   "cell_type": "code",
   "execution_count": 20,
   "metadata": {},
   "outputs": [],
   "source": [
    "path_open = \"data/open\"\n",
    "dir_list = os.listdir(path_open)\n",
    " \n",
    "with open('path.csv', 'a') as f:\n",
    "    \n",
    "    writer = csv.writer(f)\n",
    "\n",
    "    for dir in dir_list:\n",
    "        writer.writerow([\"open/\" + dir, 0])"
   ]
  }
 ],
 "metadata": {
  "kernelspec": {
   "display_name": "d2l",
   "language": "python",
   "name": "python3"
  },
  "language_info": {
   "codemirror_mode": {
    "name": "ipython",
    "version": 3
   },
   "file_extension": ".py",
   "mimetype": "text/x-python",
   "name": "python",
   "nbconvert_exporter": "python",
   "pygments_lexer": "ipython3",
   "version": "3.9.16"
  },
  "orig_nbformat": 4
 },
 "nbformat": 4,
 "nbformat_minor": 2
}
